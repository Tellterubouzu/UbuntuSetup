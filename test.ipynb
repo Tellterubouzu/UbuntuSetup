{
 "cells": [
  {
   "cell_type": "code",
   "execution_count": null,
   "metadata": {},
   "outputs": [],
   "source": [
    "from huggingface_hub import snapshot_download\n",
    "snapshot_download(repo_id =\"meta-llama/Meta-Llama-3-8B-Instruct\",local_dir=\"./models/metta-llama3-8b-instruct\")\n",
    "snapshot_download(repo_id =\"TIGER-Lab/Mantis-8B-siglip-llama3\",local_dir=\"./models/mantis-8b-siglip-llama3\")\n"
   ]
  },
  {
   "cell_type": "code",
   "execution_count": null,
   "metadata": {},
   "outputs": [],
   "source": []
  }
 ],
 "metadata": {
  "language_info": {
   "name": "python"
  }
 },
 "nbformat": 4,
 "nbformat_minor": 2
}
